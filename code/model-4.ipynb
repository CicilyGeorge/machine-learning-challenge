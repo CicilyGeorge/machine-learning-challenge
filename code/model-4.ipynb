{
 "cells": [
  {
   "cell_type": "code",
   "execution_count": 1,
   "metadata": {
    "ExecuteTime": {
     "end_time": "2021-02-07T13:38:20.727298Z",
     "start_time": "2021-02-07T13:38:16.686504Z"
    }
   },
   "outputs": [],
   "source": [
    "import pandas as pd\n",
    "import tensorflow as tf\n",
    "%run preprocess.py"
   ]
  },
  {
   "cell_type": "markdown",
   "metadata": {},
   "source": [
    "#  Data Pre-Processing"
   ]
  },
  {
   "cell_type": "code",
   "execution_count": 2,
   "metadata": {
    "ExecuteTime": {
     "end_time": "2021-02-07T13:38:20.743289Z",
     "start_time": "2021-02-07T13:38:20.728298Z"
    }
   },
   "outputs": [],
   "source": [
    "from tensorflow.keras.utils import to_categorical\n",
    "from sklearn.preprocessing import LabelEncoder\n",
    "\n",
    "# Step 1: Label-encode data set\n",
    "label_encoder = LabelEncoder()\n",
    "label_encoder.fit(y_train)\n",
    "encoded_y_train = label_encoder.transform(y_train)\n",
    "encoded_y_test = label_encoder.transform(y_test)\n",
    "\n",
    "# Step 2: Convert encoded labels to one-hot-encoding\n",
    "y_train_categorical = to_categorical(encoded_y_train)\n",
    "y_test_categorical = to_categorical(encoded_y_test)"
   ]
  },
  {
   "cell_type": "markdown",
   "metadata": {},
   "source": [
    "# Create a Deep Learning Model"
   ]
  },
  {
   "cell_type": "code",
   "execution_count": 3,
   "metadata": {
    "ExecuteTime": {
     "end_time": "2021-02-07T13:38:20.885149Z",
     "start_time": "2021-02-07T13:38:20.745287Z"
    }
   },
   "outputs": [
    {
     "name": "stdout",
     "output_type": "stream",
     "text": [
      "Model: \"sequential\"\n",
      "_________________________________________________________________\n",
      "Layer (type)                 Output Shape              Param #   \n",
      "=================================================================\n",
      "dense (Dense)                (None, 3)                 63        \n",
      "_________________________________________________________________\n",
      "dense_1 (Dense)              (None, 3)                 12        \n",
      "=================================================================\n",
      "Total params: 75\n",
      "Trainable params: 75\n",
      "Non-trainable params: 0\n",
      "_________________________________________________________________\n"
     ]
    }
   ],
   "source": [
    "from tensorflow.keras.models import Sequential\n",
    "from tensorflow.keras.layers import Dense\n",
    "\n",
    "# Create a Neural Network model and add layers\n",
    "model_nn = Sequential()\n",
    "number_inputs = 20\n",
    "number_hidden_nodes = 3\n",
    "model_nn.add(Dense(units=number_hidden_nodes,\n",
    "                activation='relu', input_dim=number_inputs))\n",
    "\n",
    "number_classes = 3\n",
    "model_nn.add(Dense(units=number_classes, activation='softmax'))\n",
    "model_nn.summary()"
   ]
  },
  {
   "cell_type": "code",
   "execution_count": 4,
   "metadata": {
    "ExecuteTime": {
     "end_time": "2021-02-07T13:38:36.932806Z",
     "start_time": "2021-02-07T13:38:20.887130Z"
    }
   },
   "outputs": [
    {
     "name": "stdout",
     "output_type": "stream",
     "text": [
      "Epoch 1/1000\n",
      "175/175 [==============================] - 0s 674us/step - loss: 0.9067 - accuracy: 0.5426\n",
      "Epoch 2/1000\n",
      "175/175 [==============================] - 0s 715us/step - loss: 0.7125 - accuracy: 0.7010\n",
      "Epoch 3/1000\n",
      "175/175 [==============================] - 0s 691us/step - loss: 0.6079 - accuracy: 0.7378\n",
      "Epoch 4/1000\n",
      "175/175 [==============================] - 0s 691us/step - loss: 0.5286 - accuracy: 0.7611\n",
      "Epoch 5/1000\n",
      "175/175 [==============================] - 0s 657us/step - loss: 0.4752 - accuracy: 0.7777\n",
      "Epoch 6/1000\n",
      "175/175 [==============================] - 0s 708us/step - loss: 0.4405 - accuracy: 0.7825\n",
      "Epoch 7/1000\n",
      "175/175 [==============================] - 0s 720us/step - loss: 0.4188 - accuracy: 0.7870\n",
      "Epoch 8/1000\n",
      "175/175 [==============================] - 0s 668us/step - loss: 0.4055 - accuracy: 0.7897\n",
      "Epoch 9/1000\n",
      "175/175 [==============================] - 0s 674us/step - loss: 0.3974 - accuracy: 0.7933\n",
      "Epoch 10/1000\n",
      "175/175 [==============================] - 0s 668us/step - loss: 0.3917 - accuracy: 0.7949\n",
      "Epoch 11/1000\n",
      "175/175 [==============================] - 0s 657us/step - loss: 0.3875 - accuracy: 0.7974\n",
      "Epoch 12/1000\n",
      "175/175 [==============================] - 0s 662us/step - loss: 0.3842 - accuracy: 0.7976\n",
      "Epoch 13/1000\n",
      "175/175 [==============================] - 0s 685us/step - loss: 0.3812 - accuracy: 0.7992\n",
      "Epoch 14/1000\n",
      "175/175 [==============================] - 0s 668us/step - loss: 0.3788 - accuracy: 0.7976\n",
      "Epoch 15/1000\n",
      "175/175 [==============================] - 0s 691us/step - loss: 0.3770 - accuracy: 0.8001\n",
      "Epoch 16/1000\n",
      "175/175 [==============================] - 0s 662us/step - loss: 0.3752 - accuracy: 0.8010\n",
      "Epoch 17/1000\n",
      "175/175 [==============================] - 0s 668us/step - loss: 0.3737 - accuracy: 0.8017\n",
      "Epoch 18/1000\n",
      "175/175 [==============================] - 0s 674us/step - loss: 0.3724 - accuracy: 0.8024\n",
      "Epoch 19/1000\n",
      "175/175 [==============================] - 0s 680us/step - loss: 0.3715 - accuracy: 0.8019\n",
      "Epoch 20/1000\n",
      "175/175 [==============================] - 0s 668us/step - loss: 0.3703 - accuracy: 0.8033\n",
      "Epoch 21/1000\n",
      "175/175 [==============================] - 0s 680us/step - loss: 0.3692 - accuracy: 0.8069\n",
      "Epoch 22/1000\n",
      "175/175 [==============================] - 0s 708us/step - loss: 0.3680 - accuracy: 0.8078\n",
      "Epoch 23/1000\n",
      "175/175 [==============================] - 0s 651us/step - loss: 0.3671 - accuracy: 0.8070\n",
      "Epoch 24/1000\n",
      "175/175 [==============================] - 0s 680us/step - loss: 0.3659 - accuracy: 0.8137\n",
      "Epoch 25/1000\n",
      "175/175 [==============================] - 0s 668us/step - loss: 0.3644 - accuracy: 0.8144\n",
      "Epoch 26/1000\n",
      "175/175 [==============================] - 0s 662us/step - loss: 0.3635 - accuracy: 0.8160\n",
      "Epoch 27/1000\n",
      "175/175 [==============================] - 0s 657us/step - loss: 0.3623 - accuracy: 0.8156\n",
      "Epoch 28/1000\n",
      "175/175 [==============================] - 0s 691us/step - loss: 0.3615 - accuracy: 0.8196\n",
      "Epoch 29/1000\n",
      "175/175 [==============================] - 0s 680us/step - loss: 0.3606 - accuracy: 0.8178\n",
      "Epoch 30/1000\n",
      "175/175 [==============================] - 0s 668us/step - loss: 0.3599 - accuracy: 0.8192\n",
      "Epoch 31/1000\n",
      "175/175 [==============================] - 0s 668us/step - loss: 0.3593 - accuracy: 0.8190\n",
      "Epoch 32/1000\n",
      "175/175 [==============================] - 0s 685us/step - loss: 0.3584 - accuracy: 0.8201\n",
      "Epoch 33/1000\n",
      "175/175 [==============================] - 0s 674us/step - loss: 0.3579 - accuracy: 0.8215\n",
      "Epoch 34/1000\n",
      "175/175 [==============================] - 0s 668us/step - loss: 0.3572 - accuracy: 0.8197\n",
      "Epoch 35/1000\n",
      "175/175 [==============================] - 0s 674us/step - loss: 0.3567 - accuracy: 0.8214\n",
      "Epoch 36/1000\n",
      "175/175 [==============================] - 0s 662us/step - loss: 0.3564 - accuracy: 0.8212\n",
      "Epoch 37/1000\n",
      "175/175 [==============================] - 0s 702us/step - loss: 0.3557 - accuracy: 0.8237\n",
      "Epoch 38/1000\n",
      "175/175 [==============================] - 0s 691us/step - loss: 0.3551 - accuracy: 0.8235\n",
      "Epoch 39/1000\n",
      "175/175 [==============================] - 0s 668us/step - loss: 0.3547 - accuracy: 0.8235\n",
      "Epoch 40/1000\n",
      "175/175 [==============================] - 0s 680us/step - loss: 0.3543 - accuracy: 0.8235\n",
      "Epoch 41/1000\n",
      "175/175 [==============================] - 0s 662us/step - loss: 0.3539 - accuracy: 0.8262\n",
      "Epoch 42/1000\n",
      "175/175 [==============================] - 0s 651us/step - loss: 0.3534 - accuracy: 0.8240\n",
      "Epoch 43/1000\n",
      "175/175 [==============================] - 0s 668us/step - loss: 0.3531 - accuracy: 0.8240\n",
      "Epoch 44/1000\n",
      "175/175 [==============================] - 0s 628us/step - loss: 0.3526 - accuracy: 0.8253\n",
      "Epoch 45/1000\n",
      "175/175 [==============================] - 0s 674us/step - loss: 0.3523 - accuracy: 0.8233\n",
      "Epoch 46/1000\n",
      "175/175 [==============================] - 0s 668us/step - loss: 0.3519 - accuracy: 0.8237\n",
      "Epoch 47/1000\n",
      "175/175 [==============================] - 0s 674us/step - loss: 0.3516 - accuracy: 0.8274\n",
      "Epoch 48/1000\n",
      "175/175 [==============================] - 0s 685us/step - loss: 0.3513 - accuracy: 0.8273\n",
      "Epoch 49/1000\n",
      "175/175 [==============================] - 0s 685us/step - loss: 0.3513 - accuracy: 0.8244\n",
      "Epoch 50/1000\n",
      "175/175 [==============================] - 0s 680us/step - loss: 0.3508 - accuracy: 0.8253\n",
      "Epoch 51/1000\n",
      "175/175 [==============================] - 0s 674us/step - loss: 0.3504 - accuracy: 0.8264\n",
      "Epoch 52/1000\n",
      "175/175 [==============================] - 0s 668us/step - loss: 0.3502 - accuracy: 0.8264\n",
      "Epoch 53/1000\n",
      "175/175 [==============================] - 0s 697us/step - loss: 0.3500 - accuracy: 0.8246\n",
      "Epoch 54/1000\n",
      "175/175 [==============================] - 0s 651us/step - loss: 0.3500 - accuracy: 0.8265\n",
      "Epoch 55/1000\n",
      "175/175 [==============================] - 0s 634us/step - loss: 0.3494 - accuracy: 0.8267\n",
      "Epoch 56/1000\n",
      "175/175 [==============================] - 0s 668us/step - loss: 0.3493 - accuracy: 0.8269\n",
      "Epoch 57/1000\n",
      "175/175 [==============================] - 0s 674us/step - loss: 0.3492 - accuracy: 0.8280\n",
      "Epoch 58/1000\n",
      "175/175 [==============================] - 0s 668us/step - loss: 0.3488 - accuracy: 0.8292\n",
      "Epoch 59/1000\n",
      "175/175 [==============================] - 0s 663us/step - loss: 0.3484 - accuracy: 0.8307\n",
      "Epoch 60/1000\n",
      "175/175 [==============================] - 0s 657us/step - loss: 0.3483 - accuracy: 0.8285\n",
      "Epoch 61/1000\n",
      "175/175 [==============================] - 0s 662us/step - loss: 0.3481 - accuracy: 0.8310\n",
      "Epoch 62/1000\n",
      "175/175 [==============================] - 0s 662us/step - loss: 0.3480 - accuracy: 0.8301\n",
      "Epoch 63/1000\n",
      "175/175 [==============================] - 0s 657us/step - loss: 0.3475 - accuracy: 0.8310\n",
      "Epoch 64/1000\n",
      "175/175 [==============================] - 0s 668us/step - loss: 0.3472 - accuracy: 0.8319\n",
      "Epoch 65/1000\n",
      "175/175 [==============================] - 0s 720us/step - loss: 0.3473 - accuracy: 0.8299\n",
      "Epoch 66/1000\n",
      "175/175 [==============================] - 0s 657us/step - loss: 0.3469 - accuracy: 0.8287\n",
      "Epoch 67/1000\n",
      "175/175 [==============================] - 0s 662us/step - loss: 0.3469 - accuracy: 0.8308\n",
      "Epoch 68/1000\n",
      "175/175 [==============================] - 0s 651us/step - loss: 0.3465 - accuracy: 0.8310\n",
      "Epoch 69/1000\n",
      "175/175 [==============================] - 0s 617us/step - loss: 0.3462 - accuracy: 0.8314\n",
      "Epoch 70/1000\n",
      "175/175 [==============================] - 0s 640us/step - loss: 0.3462 - accuracy: 0.8314\n",
      "Epoch 71/1000\n",
      "175/175 [==============================] - 0s 662us/step - loss: 0.3460 - accuracy: 0.8308\n",
      "Epoch 72/1000\n",
      "175/175 [==============================] - 0s 674us/step - loss: 0.3458 - accuracy: 0.8321\n",
      "Epoch 73/1000\n",
      "175/175 [==============================] - 0s 634us/step - loss: 0.3457 - accuracy: 0.8296\n",
      "Epoch 74/1000\n",
      "175/175 [==============================] - 0s 640us/step - loss: 0.3454 - accuracy: 0.8321\n",
      "Epoch 75/1000\n",
      "175/175 [==============================] - 0s 628us/step - loss: 0.3453 - accuracy: 0.8314\n",
      "Epoch 76/1000\n",
      "175/175 [==============================] - 0s 628us/step - loss: 0.3452 - accuracy: 0.8323\n",
      "Epoch 77/1000\n",
      "175/175 [==============================] - 0s 611us/step - loss: 0.3447 - accuracy: 0.8323\n",
      "Epoch 78/1000\n",
      "175/175 [==============================] - 0s 640us/step - loss: 0.3450 - accuracy: 0.8328\n",
      "Epoch 79/1000\n"
     ]
    },
    {
     "name": "stdout",
     "output_type": "stream",
     "text": [
      "175/175 [==============================] - 0s 662us/step - loss: 0.3448 - accuracy: 0.8333\n",
      "Epoch 80/1000\n",
      "175/175 [==============================] - 0s 657us/step - loss: 0.3447 - accuracy: 0.8348\n",
      "Epoch 81/1000\n",
      "175/175 [==============================] - 0s 657us/step - loss: 0.3446 - accuracy: 0.8332\n",
      "Epoch 82/1000\n",
      "175/175 [==============================] - 0s 645us/step - loss: 0.3444 - accuracy: 0.8315\n",
      "Epoch 83/1000\n",
      "175/175 [==============================] - 0s 657us/step - loss: 0.3444 - accuracy: 0.8303\n",
      "Epoch 84/1000\n",
      "175/175 [==============================] - 0s 668us/step - loss: 0.3441 - accuracy: 0.8326\n",
      "Epoch 85/1000\n",
      "175/175 [==============================] - 0s 657us/step - loss: 0.3443 - accuracy: 0.8308\n",
      "Epoch 86/1000\n",
      "175/175 [==============================] - 0s 651us/step - loss: 0.3442 - accuracy: 0.8296\n",
      "Epoch 87/1000\n",
      "175/175 [==============================] - 0s 657us/step - loss: 0.3439 - accuracy: 0.8333\n",
      "Epoch 88/1000\n",
      "175/175 [==============================] - 0s 657us/step - loss: 0.3437 - accuracy: 0.8337\n",
      "Epoch 89/1000\n",
      "175/175 [==============================] - 0s 662us/step - loss: 0.3437 - accuracy: 0.8344\n",
      "Epoch 90/1000\n",
      "175/175 [==============================] - 0s 651us/step - loss: 0.3437 - accuracy: 0.8305\n",
      "Epoch 91/1000\n",
      "175/175 [==============================] - 0s 657us/step - loss: 0.3435 - accuracy: 0.8312\n",
      "Epoch 92/1000\n",
      "175/175 [==============================] - 0s 668us/step - loss: 0.3436 - accuracy: 0.8315\n",
      "Epoch 93/1000\n",
      "175/175 [==============================] - 0s 662us/step - loss: 0.3434 - accuracy: 0.8321\n",
      "Epoch 94/1000\n",
      "175/175 [==============================] - 0s 657us/step - loss: 0.3435 - accuracy: 0.8310\n",
      "Epoch 95/1000\n",
      "175/175 [==============================] - 0s 645us/step - loss: 0.3435 - accuracy: 0.8315\n",
      "Epoch 96/1000\n",
      "175/175 [==============================] - 0s 657us/step - loss: 0.3432 - accuracy: 0.8328\n",
      "Epoch 97/1000\n",
      "175/175 [==============================] - 0s 674us/step - loss: 0.3431 - accuracy: 0.8314\n",
      "Epoch 98/1000\n",
      "175/175 [==============================] - 0s 651us/step - loss: 0.3432 - accuracy: 0.8310\n",
      "Epoch 99/1000\n",
      "175/175 [==============================] - 0s 651us/step - loss: 0.3428 - accuracy: 0.8342\n",
      "Epoch 100/1000\n",
      "175/175 [==============================] - 0s 651us/step - loss: 0.3428 - accuracy: 0.8335\n",
      "Epoch 101/1000\n",
      "175/175 [==============================] - 0s 651us/step - loss: 0.3425 - accuracy: 0.8321\n",
      "Epoch 102/1000\n",
      "175/175 [==============================] - 0s 651us/step - loss: 0.3424 - accuracy: 0.8312\n",
      "Epoch 103/1000\n",
      "175/175 [==============================] - 0s 657us/step - loss: 0.3425 - accuracy: 0.8323\n",
      "Epoch 104/1000\n",
      "175/175 [==============================] - 0s 657us/step - loss: 0.3424 - accuracy: 0.8337\n",
      "Epoch 105/1000\n",
      "175/175 [==============================] - 0s 668us/step - loss: 0.3424 - accuracy: 0.8324\n",
      "Epoch 106/1000\n",
      "175/175 [==============================] - 0s 668us/step - loss: 0.3423 - accuracy: 0.8344\n",
      "Epoch 107/1000\n",
      "175/175 [==============================] - 0s 662us/step - loss: 0.3423 - accuracy: 0.8349\n",
      "Epoch 108/1000\n",
      "175/175 [==============================] - 0s 657us/step - loss: 0.3422 - accuracy: 0.8296\n",
      "Epoch 109/1000\n",
      "175/175 [==============================] - 0s 657us/step - loss: 0.3425 - accuracy: 0.8314\n",
      "Epoch 110/1000\n",
      "175/175 [==============================] - 0s 657us/step - loss: 0.3420 - accuracy: 0.8323\n",
      "Epoch 111/1000\n",
      "175/175 [==============================] - 0s 645us/step - loss: 0.3419 - accuracy: 0.8330\n",
      "Epoch 112/1000\n",
      "175/175 [==============================] - 0s 645us/step - loss: 0.3419 - accuracy: 0.8319\n",
      "Epoch 113/1000\n",
      "175/175 [==============================] - 0s 651us/step - loss: 0.3414 - accuracy: 0.8335\n",
      "Epoch 114/1000\n",
      "175/175 [==============================] - 0s 662us/step - loss: 0.3417 - accuracy: 0.8349\n",
      "Epoch 115/1000\n",
      "175/175 [==============================] - 0s 651us/step - loss: 0.3416 - accuracy: 0.8314\n",
      "Epoch 116/1000\n",
      "175/175 [==============================] - 0s 657us/step - loss: 0.3414 - accuracy: 0.8330\n",
      "Epoch 117/1000\n",
      "175/175 [==============================] - 0s 651us/step - loss: 0.3416 - accuracy: 0.8326\n",
      "Epoch 118/1000\n",
      "175/175 [==============================] - 0s 657us/step - loss: 0.3413 - accuracy: 0.8355\n",
      "Epoch 119/1000\n",
      "175/175 [==============================] - 0s 668us/step - loss: 0.3413 - accuracy: 0.8319\n",
      "Epoch 120/1000\n",
      "175/175 [==============================] - 0s 668us/step - loss: 0.3415 - accuracy: 0.8346\n",
      "Epoch 121/1000\n",
      "175/175 [==============================] - 0s 657us/step - loss: 0.3412 - accuracy: 0.8358\n",
      "Epoch 122/1000\n",
      "175/175 [==============================] - 0s 645us/step - loss: 0.3414 - accuracy: 0.8324\n",
      "Epoch 123/1000\n",
      "175/175 [==============================] - 0s 668us/step - loss: 0.3412 - accuracy: 0.8321\n",
      "Epoch 124/1000\n",
      "175/175 [==============================] - 0s 657us/step - loss: 0.3411 - accuracy: 0.8346\n",
      "Epoch 125/1000\n",
      "175/175 [==============================] - 0s 657us/step - loss: 0.3409 - accuracy: 0.8339\n",
      "Epoch 126/1000\n",
      "175/175 [==============================] - 0s 657us/step - loss: 0.3411 - accuracy: 0.8344\n",
      "Epoch 127/1000\n",
      "175/175 [==============================] - 0s 657us/step - loss: 0.3410 - accuracy: 0.8344\n",
      "Epoch 128/1000\n",
      "175/175 [==============================] - 0s 657us/step - loss: 0.3411 - accuracy: 0.8328\n",
      "Epoch 129/1000\n",
      "175/175 [==============================] - 0s 645us/step - loss: 0.3410 - accuracy: 0.8319\n",
      "Epoch 130/1000\n",
      "175/175 [==============================] - 0s 674us/step - loss: 0.3410 - accuracy: 0.8323\n"
     ]
    },
    {
     "data": {
      "text/plain": [
       "<tensorflow.python.keras.callbacks.History at 0x2088daefcc8>"
      ]
     },
     "execution_count": 4,
     "metadata": {},
     "output_type": "execute_result"
    }
   ],
   "source": [
    "# This callback will stop the training when there is no improvement in\n",
    "# the validation loss for three consecutive epochs.\n",
    "callback = tf.keras.callbacks.EarlyStopping(monitor='loss', patience=5)\n",
    "# Compile and fit the model\n",
    "model_nn.compile(optimizer='adam',\n",
    "              loss='categorical_crossentropy',\n",
    "              metrics=['accuracy'])\n",
    "# Fit (train) the model\n",
    "model_nn.fit(\n",
    "    X_train_scaled,\n",
    "    y_train_categorical,\n",
    "    epochs=1000,\n",
    "    shuffle=True,\n",
    "    callbacks=[callback],          # EarlyStopping\n",
    "    verbose=1\n",
    ")"
   ]
  },
  {
   "cell_type": "markdown",
   "metadata": {},
   "source": [
    "## Quantify the Trained Model"
   ]
  },
  {
   "cell_type": "code",
   "execution_count": 5,
   "metadata": {
    "ExecuteTime": {
     "end_time": "2021-02-07T13:38:37.168650Z",
     "start_time": "2021-02-07T13:38:36.933806Z"
    }
   },
   "outputs": [
    {
     "name": "stdout",
     "output_type": "stream",
     "text": [
      "44/44 - 0s - loss: 0.3698 - accuracy: 0.8192\n",
      "Normal Neural Network - Loss: 0.3698229193687439, Accuracy: 0.8191565275192261\n"
     ]
    }
   ],
   "source": [
    "model_loss, model_accuracy = model_nn.evaluate(X_test_scaled, y_test_categorical, verbose=2)\n",
    "print(f\"Normal Neural Network - Loss: {model_loss}, Accuracy: {model_accuracy}\")"
   ]
  },
  {
   "cell_type": "markdown",
   "metadata": {},
   "source": [
    "Based on above, I can conclude that Random Forest which gives 89% Accuracy is the best model for solving the problem of Exoplanet classification"
   ]
  },
  {
   "cell_type": "markdown",
   "metadata": {},
   "source": [
    "# Save the Model"
   ]
  },
  {
   "cell_type": "code",
   "execution_count": 6,
   "metadata": {
    "ExecuteTime": {
     "end_time": "2021-02-07T13:38:37.843116Z",
     "start_time": "2021-02-07T13:38:37.170649Z"
    }
   },
   "outputs": [],
   "source": [
    "# save trained model using the HDF5 binary format\n",
    "model_nn.save(\"model_deep.h5\")"
   ]
  },
  {
   "cell_type": "code",
   "execution_count": null,
   "metadata": {},
   "outputs": [],
   "source": []
  }
 ],
 "metadata": {
  "hide_input": false,
  "kernel_info": {
   "name": "dev"
  },
  "kernelspec": {
   "display_name": "Python 3",
   "language": "python",
   "name": "python3"
  },
  "language_info": {
   "codemirror_mode": {
    "name": "ipython",
    "version": 3
   },
   "file_extension": ".py",
   "mimetype": "text/x-python",
   "name": "python",
   "nbconvert_exporter": "python",
   "pygments_lexer": "ipython3",
   "version": "3.7.9"
  },
  "nteract": {
   "version": "0.12.3"
  },
  "toc": {
   "base_numbering": 1,
   "nav_menu": {},
   "number_sections": true,
   "sideBar": true,
   "skip_h1_title": false,
   "title_cell": "Table of Contents",
   "title_sidebar": "Contents",
   "toc_cell": false,
   "toc_position": {},
   "toc_section_display": true,
   "toc_window_display": false
  },
  "varInspector": {
   "cols": {
    "lenName": 16,
    "lenType": 16,
    "lenVar": 40
   },
   "kernels_config": {
    "python": {
     "delete_cmd_postfix": "",
     "delete_cmd_prefix": "del ",
     "library": "var_list.py",
     "varRefreshCmd": "print(var_dic_list())"
    },
    "r": {
     "delete_cmd_postfix": ") ",
     "delete_cmd_prefix": "rm(",
     "library": "var_list.r",
     "varRefreshCmd": "cat(var_dic_list()) "
    }
   },
   "types_to_exclude": [
    "module",
    "function",
    "builtin_function_or_method",
    "instance",
    "_Feature"
   ],
   "window_display": false
  }
 },
 "nbformat": 4,
 "nbformat_minor": 2
}
